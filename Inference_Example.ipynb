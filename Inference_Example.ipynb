{
 "cells": [
  {
   "cell_type": "code",
   "execution_count": 1,
   "metadata": {},
   "outputs": [],
   "source": [
    "import numpy as np\n",
    "import torch\n",
    "from torch import nn\n",
    "import lightning.pytorch as pl\n",
    "#------------------------\n",
    "# local imports\n",
    "#------------------------\n",
    "from datamodule import  HPLCTracesDatasetV2\n",
    "from models     import PhilCNNModelV3\n"
   ]
  },
  {
   "cell_type": "code",
   "execution_count": 2,
   "metadata": {},
   "outputs": [],
   "source": [
    "from pickle import load as pickle_load\n",
    "from pickle import dump as pickle_dump "
   ]
  },
  {
   "cell_type": "code",
   "execution_count": 4,
   "metadata": {},
   "outputs": [
    {
     "data": {
      "text/plain": [
       "PhilCNNModelV3(\n",
       "  (criterion): BCELoss()\n",
       "  (train_metrics): MetricCollection(\n",
       "    (BinaryF1Score): BinaryF1Score()\n",
       "    (BinaryAccuracy): BinaryAccuracy()\n",
       "    (BinaryPrecision): BinaryPrecision()\n",
       "    (BinaryRecall): BinaryRecall(),\n",
       "    prefix=train_\n",
       "  )\n",
       "  (valid_metrics): MetricCollection(\n",
       "    (BinaryF1Score): BinaryF1Score()\n",
       "    (BinaryAccuracy): BinaryAccuracy()\n",
       "    (BinaryPrecision): BinaryPrecision()\n",
       "    (BinaryRecall): BinaryRecall(),\n",
       "    prefix=val_\n",
       "  )\n",
       "  (test_metrics): MetricCollection(\n",
       "    (BinaryF1Score): BinaryF1Score()\n",
       "    (BinaryAccuracy): BinaryAccuracy()\n",
       "    (BinaryPrecision): BinaryPrecision()\n",
       "    (BinaryRecall): BinaryRecall(),\n",
       "    prefix=test_\n",
       "  )\n",
       "  (layers): Sequential(\n",
       "    (0): Conv1d(1, 11, kernel_size=(8,), stride=(4,))\n",
       "    (1): ReLU()\n",
       "    (2): BatchNorm1d(11, eps=1e-05, momentum=0.1, affine=True, track_running_stats=True)\n",
       "    (3): Conv1d(11, 11, kernel_size=(4,), stride=(5,))\n",
       "    (4): ReLU()\n",
       "    (5): BatchNorm1d(11, eps=1e-05, momentum=0.1, affine=True, track_running_stats=True)\n",
       "    (6): Conv1d(11, 9, kernel_size=(6,), stride=(4,))\n",
       "    (7): ReLU()\n",
       "    (8): BatchNorm1d(9, eps=1e-05, momentum=0.1, affine=True, track_running_stats=True)\n",
       "    (9): Flatten(start_dim=1, end_dim=-1)\n",
       "    (10): Linear(in_features=108, out_features=25, bias=True)\n",
       "    (11): ReLU()\n",
       "    (12): Dropout1d(p=0.1, inplace=False)\n",
       "    (13): Linear(in_features=25, out_features=1, bias=True)\n",
       "    (14): Sigmoid()\n",
       "  )\n",
       ")"
      ]
     },
     "execution_count": 4,
     "metadata": {},
     "output_type": "execute_result"
    }
   ],
   "source": [
    "#final model\n",
    "Final_model = PhilCNNModelV3.load_from_checkpoint(\"./DeployedModel_epoch310-step19282.ckpt\",map_location=torch.device('cpu'))\n",
    "Final_model.eval()\n",
    "Final_model.cpu()"
   ]
  },
  {
   "cell_type": "code",
   "execution_count": 5,
   "metadata": {},
   "outputs": [],
   "source": [
    "Traces_100_List = pickle_load(open(\"./ExamplePreasureTraces_100_List[List[float]].pkl\",\"rb\"))"
   ]
  },
  {
   "cell_type": "code",
   "execution_count": 6,
   "metadata": {},
   "outputs": [
    {
     "data": {
      "text/plain": [
       "{'BATCH_SIZE': 100,\n",
       " 'MAX_SEQ_LEN': 1000,\n",
       " 'SKIP_FIRST_N': 40,\n",
       " 'batch_size': 100,\n",
       " 'lr_init': 0.0005800062677760753,\n",
       " 'max_seq_len': 1000,\n",
       " 'n_agg_layers': 1,\n",
       " 'n_agg_layers_och': [25],\n",
       " 'n_feature_layers': 3,\n",
       " 'n_feature_layers_ich': [1, 11, 11],\n",
       " 'n_feature_layers_ksize': [8, 4, 6],\n",
       " 'n_feature_layers_och': [11, 11, 9],\n",
       " 'n_feature_layers_stride': [4, 5, 4],\n",
       " 'skip_first_n': 40}"
      ]
     },
     "execution_count": 6,
     "metadata": {},
     "output_type": "execute_result"
    }
   ],
   "source": [
    "import yaml\n",
    "hp = yaml.full_load(open(\"./hparams.yaml\"))\n",
    "hp"
   ]
  },
  {
   "cell_type": "code",
   "execution_count": 7,
   "metadata": {},
   "outputs": [
    {
     "name": "stdout",
     "output_type": "stream",
     "text": [
      "(100, 1000)\n",
      "(100, 1, 1000)\n",
      "torch.Size([100, 1, 1000])\n"
     ]
    }
   ],
   "source": [
    "def pad_x_list_and_skip_nfirst(x,skip_first_n,max_seq_len):\n",
    "    x = x[skip_first_n:]\n",
    "    if len(x) >= max_seq_len:\n",
    "        x = x[0:max_seq_len]\n",
    "\n",
    "    if len(x) < max_seq_len:\n",
    "        x=[0.0]*(max_seq_len - len(x))+x\n",
    "    return np.array(x,dtype=float)\n",
    "\n",
    "Traces_100_List_padded = list(map(lambda x: pad_x_list_and_skip_nfirst(x,\n",
    "                                        skip_first_n=hp[\"SKIP_FIRST_N\"],\n",
    "                                        max_seq_len=hp[\"MAX_SEQ_LEN\"]),Traces_100_List))\n",
    "\n",
    "\n",
    "Traces_100_nparray = np.array(Traces_100_List_padded,dtype=float)\n",
    "print(Traces_100_nparray.shape)\n",
    "Traces_100_nparray_reshaped = Traces_100_nparray.reshape(-1,1,hp[\"MAX_SEQ_LEN\"]) # B=BatchSize,C=1,L=MAX_SEQ_LEN\n",
    "print(Traces_100_nparray_reshaped.shape)\n",
    "Traces_100_tensor = torch.tensor(Traces_100_nparray_reshaped).float()\n",
    "print(Traces_100_tensor.shape)\n"
   ]
  },
  {
   "cell_type": "code",
   "execution_count": 9,
   "metadata": {},
   "outputs": [
    {
     "name": "stdout",
     "output_type": "stream",
     "text": [
      "[2.25651473e-01 9.88945186e-01 1.47390086e-03 9.99657154e-01\n",
      " 2.66554634e-05 1.50847995e-06 7.65313018e-07 6.71052514e-03\n",
      " 4.72344655e-05 5.64804213e-05 3.89991095e-04 1.59060874e-03\n",
      " 2.48603756e-03 2.18991376e-03 5.91477237e-06 2.99188141e-05\n",
      " 1.15245512e-05 6.30075927e-04 3.57772980e-04 1.36767812e-06\n",
      " 4.41567134e-03 3.18160201e-05 7.98825113e-06 2.33112733e-04\n",
      " 4.40394389e-04 3.41500097e-04 3.83059075e-03 3.69264744e-05\n",
      " 6.71052514e-03 6.71052514e-03 6.60123942e-06 1.24017115e-05\n",
      " 1.78418600e-06 5.77309777e-07 5.25480118e-07 1.06749649e-03\n",
      " 2.67166972e-01 1.67223952e-05 1.10443989e-05 1.07041199e-03\n",
      " 4.60849667e-04 1.34163513e-03 5.55531204e-01 1.63627352e-04\n",
      " 3.10008218e-05 6.71052514e-03 6.31318585e-07 1.69342980e-01\n",
      " 8.52254016e-05 4.92822028e-06 8.92421696e-04 6.23993459e-04\n",
      " 6.53558585e-04 4.76390735e-04 5.09155274e-04 1.89941744e-07\n",
      " 2.65728188e-04 4.75309876e-04 1.34145739e-04 1.12005415e-04\n",
      " 1.18122010e-07 4.82979090e-07 9.23490167e-01 9.99860764e-01\n",
      " 1.87227430e-04 9.99985814e-01 5.95380516e-06 9.99997377e-01\n",
      " 1.45969470e-05 1.87068799e-05 1.02683298e-05 1.01217156e-05\n",
      " 4.06851505e-05 7.09026972e-06 4.57168826e-05 7.64373166e-04\n",
      " 2.09903065e-03 7.08181784e-03 9.34379816e-01 3.12776357e-01\n",
      " 1.99131409e-06 1.75860987e-06 7.79736467e-07 7.03526155e-07\n",
      " 2.17861598e-05 4.79241047e-04 2.84624815e-01 9.83790457e-01\n",
      " 3.33601856e-05 1.00000000e+00 8.60919158e-07 2.19245891e-07\n",
      " 3.62745923e-05 1.89468960e-06 4.90440009e-03 1.58499298e-03\n",
      " 6.45508262e-05 1.75667519e-03 2.27605437e-06 9.99990821e-01]\n"
     ]
    }
   ],
   "source": [
    "#prepare model prediction array\n",
    "Final_model_predicions = Final_model(Traces_100_tensor).detach().numpy().ravel()\n",
    "\n",
    "print(Final_model_predicions)"
   ]
  },
  {
   "cell_type": "code",
   "execution_count": null,
   "metadata": {},
   "outputs": [],
   "source": []
  }
 ],
 "metadata": {
  "kernelspec": {
   "display_name": "general",
   "language": "python",
   "name": "python3"
  },
  "language_info": {
   "codemirror_mode": {
    "name": "ipython",
    "version": 3
   },
   "file_extension": ".py",
   "mimetype": "text/x-python",
   "name": "python",
   "nbconvert_exporter": "python",
   "pygments_lexer": "ipython3",
   "version": "3.8.18"
  }
 },
 "nbformat": 4,
 "nbformat_minor": 2
}
